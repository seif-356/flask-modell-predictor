{
 "cells": [
  {
   "cell_type": "code",
   "execution_count": 1,
   "id": "6d85cf58",
   "metadata": {},
   "outputs": [
    {
     "name": "stdout",
     "output_type": "stream",
     "text": [
      "/bin/bash: /home/seif/miniconda3/envs/tf/lib/libtinfo.so.6: no version information available (required by /bin/bash)\n",
      "Collecting flask\n",
      "  Using cached flask-3.1.0-py3-none-any.whl.metadata (2.7 kB)\n",
      "Requirement already satisfied: Werkzeug>=3.1 in /home/seif/miniconda3/envs/tf/lib/python3.9/site-packages (from flask) (3.1.3)\n",
      "Requirement already satisfied: Jinja2>=3.1.2 in /home/seif/miniconda3/envs/tf/lib/python3.9/site-packages (from flask) (3.1.6)\n",
      "Collecting itsdangerous>=2.2 (from flask)\n",
      "  Using cached itsdangerous-2.2.0-py3-none-any.whl.metadata (1.9 kB)\n",
      "Collecting click>=8.1.3 (from flask)\n",
      "  Using cached click-8.1.8-py3-none-any.whl.metadata (2.3 kB)\n",
      "Collecting blinker>=1.9 (from flask)\n",
      "  Using cached blinker-1.9.0-py3-none-any.whl.metadata (1.6 kB)\n",
      "Requirement already satisfied: importlib-metadata>=3.6 in /home/seif/miniconda3/envs/tf/lib/python3.9/site-packages (from flask) (8.6.1)\n",
      "Requirement already satisfied: zipp>=3.20 in /home/seif/miniconda3/envs/tf/lib/python3.9/site-packages (from importlib-metadata>=3.6->flask) (3.21.0)\n",
      "Requirement already satisfied: MarkupSafe>=2.0 in /home/seif/miniconda3/envs/tf/lib/python3.9/site-packages (from Jinja2>=3.1.2->flask) (3.0.2)\n",
      "Using cached flask-3.1.0-py3-none-any.whl (102 kB)\n",
      "Using cached blinker-1.9.0-py3-none-any.whl (8.5 kB)\n",
      "Using cached click-8.1.8-py3-none-any.whl (98 kB)\n",
      "Using cached itsdangerous-2.2.0-py3-none-any.whl (16 kB)\n",
      "Installing collected packages: itsdangerous, click, blinker, flask\n",
      "\u001b[2K   \u001b[90m━━━━━━━━━━━━━━━━━━━━━━━━━━━━━━━━━━━━━━━━\u001b[0m \u001b[32m4/4\u001b[0m [flask]\n",
      "\u001b[1A\u001b[2KSuccessfully installed blinker-1.9.0 click-8.1.8 flask-3.1.0 itsdangerous-2.2.0\n"
     ]
    }
   ],
   "source": [
    "!pip install flask\n"
   ]
  },
  {
   "cell_type": "code",
   "execution_count": 2,
   "id": "f1a9e867",
   "metadata": {},
   "outputs": [
    {
     "name": "stdout",
     "output_type": "stream",
     "text": [
      "/bin/bash: /home/seif/miniconda3/envs/tf/lib/libtinfo.so.6: no version information available (required by /bin/bash)\n",
      "Collecting gunicorn\n",
      "  Downloading gunicorn-23.0.0-py3-none-any.whl.metadata (4.4 kB)\n",
      "Requirement already satisfied: packaging in /home/seif/miniconda3/envs/tf/lib/python3.9/site-packages (from gunicorn) (24.2)\n",
      "Downloading gunicorn-23.0.0-py3-none-any.whl (85 kB)\n",
      "Installing collected packages: gunicorn\n",
      "Successfully installed gunicorn-23.0.0\n"
     ]
    }
   ],
   "source": [
    "!pip install gunicorn"
   ]
  },
  {
   "cell_type": "code",
   "execution_count": 7,
   "id": "9b8c8e39",
   "metadata": {},
   "outputs": [
    {
     "name": "stdout",
     "output_type": "stream",
     "text": [
      "Number of values in row: 52\n",
      "test_features.csv created successfully at /home/seif/.vscode-server/extensions/sourcery.sourcery-1.35.0-linux-x64/DSAI 308/bonus/flask_model_app!\n"
     ]
    }
   ],
   "source": [
    "import csv\n",
    "import os\n",
    "\n",
    "# Data as a list (no row index, no activityID, just features)\n",
    "row = [\n",
    "    5.64, 29.5, -0.232001, 9.79451, -1.03558, -0.166991, 9.81824, -1.23563,\n",
    "    -0.006815, -0.012675, 0.007382, -12.1093, -8.37471, 9.85938, -0.253628, 0.690605,\n",
    "    -0.224148, 0.639136, 36.5, 0.1, 0.2, 0.3, 0.4, 0.5, 0.6, 0.7, 0.8, 0.9, 1.0, 1.1,\n",
    "    1.2, 1.3, 1.4, 1.5, 1.6, 32.1, 0.11, 0.22, 0.33, 0.44, 0.55, 0.66, 0.77, 0.88, 0.99,\n",
    "    1.11, 1.22, 1.33, 1.44, 1.55, 1.66, 0.0\n",
    "]\n",
    "\n",
    "print(\"Number of values in row:\", len(row))  # Should print 52\n",
    "\n",
    "\n",
    "with open('test_features.csv', 'w', newline='') as csvfile:\n",
    "    writer = csv.writer(csvfile)\n",
    "    writer.writerow(row)\n",
    "\n",
    "print(f\"test_features.csv created successfully at {os.getcwd()}!\")"
   ]
  },
  {
   "cell_type": "code",
   "execution_count": null,
   "id": "a860ca5d",
   "metadata": {},
   "outputs": [],
   "source": []
  }
 ],
 "metadata": {
  "kernelspec": {
   "display_name": "tf",
   "language": "python",
   "name": "python3"
  },
  "language_info": {
   "codemirror_mode": {
    "name": "ipython",
    "version": 3
   },
   "file_extension": ".py",
   "mimetype": "text/x-python",
   "name": "python",
   "nbconvert_exporter": "python",
   "pygments_lexer": "ipython3",
   "version": "3.9.21"
  }
 },
 "nbformat": 4,
 "nbformat_minor": 5
}
